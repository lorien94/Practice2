{
  "nbformat": 4,
  "nbformat_minor": 0,
  "metadata": {
    "kernelspec": {
      "display_name": "Python 3",
      "language": "python",
      "name": "python3"
    },
    "language_info": {
      "codemirror_mode": {
        "name": "ipython",
        "version": 3
      },
      "file_extension": ".py",
      "mimetype": "text/x-python",
      "name": "python",
      "nbconvert_exporter": "python",
      "pygments_lexer": "ipython3",
      "version": "3.6.4"
    },
    "colab": {
      "name": "Day1 - Setup and Python Basics",
      "provenance": [],
      "collapsed_sections": [],
      "toc_visible": true
    }
  },
  "cells": [
    {
      "cell_type": "markdown",
      "metadata": {
        "id": "ofWQB125DrAs"
      },
      "source": [
        "## Jupyter Notesbook 사용법\n",
        "\n",
        "단축키 : http://dbrang.tistory.com/1174\n",
        "\n",
        "- Edit 모드로 들어가려면 cell 위에서 ENTER\n",
        "- 다시 Command 모드로 나오려면 ESC\n",
        "\n",
        "Code를 수행시키려면 Ctrl+ENTER\n",
        "\n",
        "Y: code, M: markdown, R: raw\n",
        "\n",
        "A: insert above, B: insert below\n",
        "\n",
        "dd: 선택 셀 삭제"
      ]
    },
    {
      "cell_type": "markdown",
      "metadata": {
        "id": "1npLNEy2DrAu"
      },
      "source": [
        "## 02-1 숫자형"
      ]
    },
    {
      "cell_type": "code",
      "metadata": {
        "id": "_9Hc7d78DrAu",
        "colab": {
          "base_uri": "https://localhost:8080/"
        },
        "outputId": "59b0b1ed-728a-4d17-c043-ac38aa13094d"
      },
      "source": [
        "a = 2 ** 4\n",
        "print(a)\n",
        "\n",
        "a = 7 / 4\n",
        "print (a)\n",
        "\n",
        "a = 7 // 4    # 몫만 취하는 나누기\n",
        "print (a)"
      ],
      "execution_count": null,
      "outputs": [
        {
          "output_type": "stream",
          "text": [
            "16\n",
            "1.75\n",
            "1\n"
          ],
          "name": "stdout"
        }
      ]
    },
    {
      "cell_type": "code",
      "metadata": {
        "colab": {
          "base_uri": "https://localhost:8080/"
        },
        "id": "S4H9JsLJoL9L",
        "outputId": "7ae4a65e-be3d-4a75-f8d1-07e6a376bc10"
      },
      "source": [
        "# round (숫자, 표시할 소수점 자릿수)\n",
        "\n",
        "print(round (3.141592, 3))\n",
        "print(round (3.4))\n",
        "print(round (3.6))"
      ],
      "execution_count": null,
      "outputs": [
        {
          "output_type": "stream",
          "text": [
            "3.142\n",
            "3\n",
            "4\n"
          ],
          "name": "stdout"
        }
      ]
    },
    {
      "cell_type": "code",
      "metadata": {
        "colab": {
          "base_uri": "https://localhost:8080/"
        },
        "id": "BxUT4JTEtFEp",
        "outputId": "3bc7928a-488a-4f22-dc5a-b5b80b1f3958"
      },
      "source": [
        "a = 3.141592\n",
        "print(a, '   ', type(a))\n",
        "a = int (a)\n",
        "print(a, '   ',  type(a))\n",
        "a = float (a)\n",
        "print(a, '   ',  type(a))"
      ],
      "execution_count": null,
      "outputs": [
        {
          "output_type": "stream",
          "text": [
            "3.141592     <class 'float'>\n",
            "3     <class 'int'>\n",
            "3.0     <class 'float'>\n"
          ],
          "name": "stdout"
        }
      ]
    },
    {
      "cell_type": "markdown",
      "metadata": {
        "id": "RBkezSYfDrAv"
      },
      "source": [
        "## 02-2 문자열"
      ]
    },
    {
      "cell_type": "code",
      "metadata": {
        "id": "CBnr8DYJDrAw",
        "colab": {
          "base_uri": "https://localhost:8080/"
        },
        "outputId": "aba8f91e-bd0a-48b0-8103-0c256d899d90"
      },
      "source": [
        "multiline = '''\n",
        "Multi-line string test\n",
        "Multi-line Multi-line Multi-line Multi-line Multi-line \n",
        "\n",
        "'''\n",
        "print(multiline)"
      ],
      "execution_count": null,
      "outputs": [
        {
          "output_type": "stream",
          "text": [
            "\n",
            "Multi-line string test\n",
            "Multi-line Multi-line Multi-line Multi-line Multi-line \n",
            "\n",
            "\n"
          ],
          "name": "stdout"
        }
      ]
    },
    {
      "cell_type": "code",
      "metadata": {
        "id": "SMv-U98WDrAw",
        "colab": {
          "base_uri": "https://localhost:8080/"
        },
        "outputId": "fb85f1c8-d32c-4648-83f9-8a3ff3a6637e"
      },
      "source": [
        "a = \"abcdefg\"\n",
        "print(a[0])\n",
        "print(a[6])\n",
        "print(a[-1])\n",
        "print(a[-2])"
      ],
      "execution_count": null,
      "outputs": [
        {
          "output_type": "stream",
          "text": [
            "a\n",
            "g\n",
            "g\n",
            "f\n"
          ],
          "name": "stdout"
        }
      ]
    },
    {
      "cell_type": "code",
      "metadata": {
        "id": "0djm3mAFDrAx",
        "colab": {
          "base_uri": "https://localhost:8080/"
        },
        "outputId": "b7264c5e-2d3d-4478-e944-75b067fed359"
      },
      "source": [
        "print(a)\n",
        "print(a[:])\n",
        "print('---')\n",
        "\n",
        "print(a[:3])\n",
        "print(a[0:3])\n",
        "print('---')\n",
        "\n",
        "print(a[1:3])\n",
        "print('---')\n",
        "\n",
        "print(a[3:])\n"
      ],
      "execution_count": null,
      "outputs": [
        {
          "output_type": "stream",
          "text": [
            "abcdefg\n",
            "abcdefg\n",
            "---\n",
            "abc\n",
            "abc\n",
            "---\n",
            "bc\n",
            "---\n",
            "defg\n"
          ],
          "name": "stdout"
        }
      ]
    },
    {
      "cell_type": "code",
      "metadata": {
        "id": "C8yqjOVADrAx"
      },
      "source": [
        "a = \"Pithon\"\n",
        "# a[1] = 'y'    # 오류를 출력하게됨"
      ],
      "execution_count": null,
      "outputs": []
    },
    {
      "cell_type": "code",
      "metadata": {
        "id": "E0VQaRS0DrAy",
        "colab": {
          "base_uri": "https://localhost:8080/"
        },
        "outputId": "eb2947ac-4b3a-4464-f8a8-e096fc4c7904"
      },
      "source": [
        "b = a [:1] + 'y'+ a[2:]\n",
        "print(b)"
      ],
      "execution_count": null,
      "outputs": [
        {
          "output_type": "stream",
          "text": [
            "Python\n"
          ],
          "name": "stdout"
        }
      ]
    },
    {
      "cell_type": "code",
      "metadata": {
        "id": "gcV5yVGJDrAz",
        "colab": {
          "base_uri": "https://localhost:8080/"
        },
        "outputId": "4b57d154-01a1-446a-bfaf-37c897e3e5f5"
      },
      "source": [
        "a = 3\n",
        "print(\"I eat %d apples\" % a)\n",
        "print(\"I eat %s apples\" % \"three\")\n",
        "\n",
        "print(\"I eat %d apples , I eat %s apples\" % (a,\"three\"))\n",
        "\n",
        "print(\"I eat %f apples\" % 3.14)\n",
        "print(\"I eat %s apples\" % 3.14)\n",
        "\n",
        "print(\"%d %% increased.\" % 4)"
      ],
      "execution_count": null,
      "outputs": [
        {
          "output_type": "stream",
          "text": [
            "I eat 3 apples\n",
            "I eat three apples\n",
            "I eat 3 apples , I eat three apples\n",
            "I eat 3.140000 apples\n",
            "I eat 3.14 apples\n",
            "4 % increased.\n"
          ],
          "name": "stdout"
        }
      ]
    },
    {
      "cell_type": "code",
      "metadata": {
        "id": "wydLmmtsDrAz",
        "colab": {
          "base_uri": "https://localhost:8080/"
        },
        "outputId": "5345b646-a2ed-4df7-ac7a-9e53fa7deaa5"
      },
      "source": [
        "print(\"|%10d|\" % 314)\n",
        "print(\"|%-10d|\" % 314)\n",
        "print(\"|%10.2f|\" % 3.141592)"
      ],
      "execution_count": null,
      "outputs": [
        {
          "output_type": "stream",
          "text": [
            "|       314|\n",
            "|314       |\n",
            "|      3.14|\n"
          ],
          "name": "stdout"
        }
      ]
    },
    {
      "cell_type": "code",
      "metadata": {
        "id": "lXpT9QIaDrAz",
        "colab": {
          "base_uri": "https://localhost:8080/",
          "height": 280
        },
        "outputId": "4cc46b5e-bd54-4f33-a91f-fe9229e1184c"
      },
      "source": [
        "a = \"hobby\"\n",
        "\n",
        "print(a.count('b'))\n",
        "\n",
        "print(a.find('o'))\n",
        "print(a.find('s'))\n",
        "\n",
        "print(a.index('o'))\n",
        "print(a.index('s'))\n"
      ],
      "execution_count": null,
      "outputs": [
        {
          "output_type": "stream",
          "text": [
            "2\n",
            "1\n",
            "-1\n",
            "1\n"
          ],
          "name": "stdout"
        },
        {
          "output_type": "error",
          "ename": "ValueError",
          "evalue": "ignored",
          "traceback": [
            "\u001b[0;31m---------------------------------------------------------------------------\u001b[0m",
            "\u001b[0;31mValueError\u001b[0m                                Traceback (most recent call last)",
            "\u001b[0;32m<ipython-input-17-42a724a55936>\u001b[0m in \u001b[0;36m<module>\u001b[0;34m()\u001b[0m\n\u001b[1;32m      7\u001b[0m \u001b[0;34m\u001b[0m\u001b[0m\n\u001b[1;32m      8\u001b[0m \u001b[0mprint\u001b[0m\u001b[0;34m(\u001b[0m\u001b[0ma\u001b[0m\u001b[0;34m.\u001b[0m\u001b[0mindex\u001b[0m\u001b[0;34m(\u001b[0m\u001b[0;34m'o'\u001b[0m\u001b[0;34m)\u001b[0m\u001b[0;34m)\u001b[0m\u001b[0;34m\u001b[0m\u001b[0;34m\u001b[0m\u001b[0m\n\u001b[0;32m----> 9\u001b[0;31m \u001b[0mprint\u001b[0m\u001b[0;34m(\u001b[0m\u001b[0ma\u001b[0m\u001b[0;34m.\u001b[0m\u001b[0mindex\u001b[0m\u001b[0;34m(\u001b[0m\u001b[0;34m's'\u001b[0m\u001b[0;34m)\u001b[0m\u001b[0;34m)\u001b[0m\u001b[0;34m\u001b[0m\u001b[0;34m\u001b[0m\u001b[0m\n\u001b[0m",
            "\u001b[0;31mValueError\u001b[0m: substring not found"
          ]
        }
      ]
    },
    {
      "cell_type": "code",
      "metadata": {
        "id": "4_B4MAv4DrA0",
        "colab": {
          "base_uri": "https://localhost:8080/"
        },
        "outputId": "87e3d0c8-18ab-4b0d-e6a1-d971d3aa3621"
      },
      "source": [
        "a = \",\"\n",
        "b = a.join('abcd')\n",
        "print(b)"
      ],
      "execution_count": null,
      "outputs": [
        {
          "output_type": "stream",
          "text": [
            "a,b,c,d\n"
          ],
          "name": "stdout"
        }
      ]
    },
    {
      "cell_type": "code",
      "metadata": {
        "id": "mntRTGkBDrA0",
        "colab": {
          "base_uri": "https://localhost:8080/"
        },
        "outputId": "05c0639b-8138-4fb3-dc23-e650cb00cf49"
      },
      "source": [
        "a = '   hi there   '\n",
        "\n",
        "print('|' + a.upper() + '|')\n",
        "print('|' + a.lower() + '|')\n",
        "\n",
        "print('|' + a.lstrip() + '|')\n",
        "print('|' + a.rstrip() + '|')\n",
        "print('|' + a.strip() + '|')\n",
        "\n",
        "print(a.replace(\"hi\", \"hello\"))"
      ],
      "execution_count": null,
      "outputs": [
        {
          "output_type": "stream",
          "text": [
            "|   HI THERE   |\n",
            "|   hi there   |\n",
            "|hi there   |\n",
            "|   hi there|\n",
            "|hi there|\n",
            "   hello there   \n"
          ],
          "name": "stdout"
        }
      ]
    },
    {
      "cell_type": "code",
      "metadata": {
        "id": "3U-t5Bt2DrA0",
        "colab": {
          "base_uri": "https://localhost:8080/"
        },
        "outputId": "56708c45-bdcf-45b0-feae-7ffe39320e8a"
      },
      "source": [
        "a = \"Life is too short\"\n",
        "print(a.split())\n",
        "\n",
        "a = \"Life:is:too:short\"\n",
        "print(a.split())\n",
        "print(a.split(':'))"
      ],
      "execution_count": null,
      "outputs": [
        {
          "output_type": "stream",
          "text": [
            "['Life', 'is', 'too', 'short']\n",
            "['Life:is:too:short']\n",
            "['Life', 'is', 'too', 'short']\n"
          ],
          "name": "stdout"
        }
      ]
    },
    {
      "cell_type": "markdown",
      "metadata": {
        "id": "tX0v0-h3DrA1"
      },
      "source": [
        "## 02-3 리스트 자료형"
      ]
    },
    {
      "cell_type": "code",
      "metadata": {
        "id": "7Ek6ugt5DrA1",
        "colab": {
          "base_uri": "https://localhost:8080/"
        },
        "outputId": "91ff544c-4f98-4af6-fcac-4118543e34fc"
      },
      "source": [
        "a = [1, 2, 3, ['a', 'b', 'c']]\n",
        "\n",
        "print(a[-1])\n",
        "print(a[-1][0])"
      ],
      "execution_count": null,
      "outputs": [
        {
          "output_type": "stream",
          "text": [
            "['a', 'b', 'c']\n",
            "a\n"
          ],
          "name": "stdout"
        }
      ]
    },
    {
      "cell_type": "code",
      "metadata": {
        "id": "Imd4OaWADrA1",
        "colab": {
          "base_uri": "https://localhost:8080/"
        },
        "outputId": "63accf37-bc54-4152-cb0f-593d93732154"
      },
      "source": [
        "a = [1, 2, 3, 4, 5]\n",
        "\n",
        "print(a[1:3])\n",
        "\n",
        "print(str(a[3])+'hi')\n",
        "\n",
        "a[2] = 100\n",
        "print(a)"
      ],
      "execution_count": null,
      "outputs": [
        {
          "output_type": "stream",
          "text": [
            "[2, 3]\n",
            "4hi\n",
            "[1, 2, 100, 4, 5]\n"
          ],
          "name": "stdout"
        }
      ]
    },
    {
      "cell_type": "code",
      "metadata": {
        "id": "72w6NkL5DrA1",
        "colab": {
          "base_uri": "https://localhost:8080/"
        },
        "outputId": "14e5f7fa-aa0a-4fc8-89ae-4b76a7fb2892"
      },
      "source": [
        "a = [1, 2, 3, 4, 5]\n",
        "\n",
        "a[1:2] = ['a', 'b', 'c']\n",
        "print(a)"
      ],
      "execution_count": null,
      "outputs": [
        {
          "output_type": "stream",
          "text": [
            "[1, 'a', 'b', 'c', 3, 4, 5]\n"
          ],
          "name": "stdout"
        }
      ]
    },
    {
      "cell_type": "code",
      "metadata": {
        "id": "aa2ml2pQDrA1",
        "colab": {
          "base_uri": "https://localhost:8080/"
        },
        "outputId": "c3d570ce-180f-4f92-c47a-658343d3d55e"
      },
      "source": [
        "a = [1, 2, 3, 4, 5]\n",
        "\n",
        "a[1] = ['a', 'b', 'c']\n",
        "print(a)"
      ],
      "execution_count": null,
      "outputs": [
        {
          "output_type": "stream",
          "text": [
            "[1, ['a', 'b', 'c'], 3, 4, 5]\n"
          ],
          "name": "stdout"
        }
      ]
    },
    {
      "cell_type": "code",
      "metadata": {
        "id": "VGBb4AKKDrA1",
        "colab": {
          "base_uri": "https://localhost:8080/"
        },
        "outputId": "9537923c-c49c-428d-823c-c38f6cbd8980"
      },
      "source": [
        "a = [1, 2, 3, 4, 5]\n",
        "\n",
        "del a[1]\n",
        "print(a)"
      ],
      "execution_count": null,
      "outputs": [
        {
          "output_type": "stream",
          "text": [
            "[1, 3, 4, 5]\n"
          ],
          "name": "stdout"
        }
      ]
    },
    {
      "cell_type": "markdown",
      "metadata": {
        "id": "NBWpFa0gDrA2"
      },
      "source": [
        "그 이외의 함수들\n",
        "- append\n",
        "- sort\n",
        "- reverse\n",
        "- index\n",
        "- insert\n",
        "- remove\n",
        "- pop\n",
        "- count\n",
        "- extend\n"
      ]
    },
    {
      "cell_type": "markdown",
      "metadata": {
        "id": "wBelY98hDrA2"
      },
      "source": [
        "## 02-4 튜플 자료형"
      ]
    },
    {
      "cell_type": "code",
      "metadata": {
        "id": "VmN7zK3xDrA2"
      },
      "source": [
        "t1 = ()\n",
        "t2 = (1,)\n",
        "t3 = (1, 2, 3)\n",
        "t4 = 1, 2, 3\n",
        "\n",
        "# del t3[2] # 오류출력"
      ],
      "execution_count": null,
      "outputs": []
    },
    {
      "cell_type": "markdown",
      "metadata": {
        "id": "IddPMM_pDrA2"
      },
      "source": [
        "## 02-5 딕셔너리 자료형"
      ]
    },
    {
      "cell_type": "code",
      "metadata": {
        "id": "9pGQ_k9nDrA2",
        "colab": {
          "base_uri": "https://localhost:8080/"
        },
        "outputId": "1b83e0c1-2d8a-41db-881c-05783f348719"
      },
      "source": [
        "dic = {1:'KIM', 2:'PARK', 3:'LEE'}\n",
        "print(dic)\n",
        "\n",
        "dic[4] = 'CHOI'\n",
        "print(dic)\n",
        "\n",
        "dic['noname'] = 'nonono'\n",
        "print(dic)\n",
        "\n",
        "print(dic['noname'])\n",
        "\n",
        "del dic[1]\n",
        "print(dic)\n",
        "\n",
        "# print(dic['nokey']) # 오류출력"
      ],
      "execution_count": null,
      "outputs": [
        {
          "output_type": "stream",
          "text": [
            "{1: 'KIM', 2: 'PARK', 3: 'LEE'}\n",
            "{1: 'KIM', 2: 'PARK', 3: 'LEE', 4: 'CHOI'}\n",
            "{1: 'KIM', 2: 'PARK', 3: 'LEE', 4: 'CHOI', 'noname': 'nonono'}\n",
            "nonono\n",
            "{2: 'PARK', 3: 'LEE', 4: 'CHOI', 'noname': 'nonono'}\n"
          ],
          "name": "stdout"
        }
      ]
    },
    {
      "cell_type": "code",
      "metadata": {
        "id": "iHYr022XDrA2",
        "colab": {
          "base_uri": "https://localhost:8080/"
        },
        "outputId": "fa13d79d-7ef2-4bd7-c963-ea8ac651f32c"
      },
      "source": [
        "dic = {1:'KIM', 2:'PARK', 3:'LEE'}\n",
        "\n",
        "# keys()는 dic_keys라는 객체를 return\n",
        "\n",
        "a = dic.keys()\n",
        "print(a)\n",
        "\n",
        "for k in dic.keys():\n",
        "    print(k)\n",
        "\n",
        "# dic_keys 객체를 다시 list로 변환해서 사용\n",
        "\n",
        "a = list(dic.keys())\n",
        "print(a)\n",
        "\n",
        "for k in a:\n",
        "    print(k)\n"
      ],
      "execution_count": null,
      "outputs": [
        {
          "output_type": "stream",
          "text": [
            "dict_keys([1, 2, 3])\n",
            "1\n",
            "2\n",
            "3\n",
            "[1, 2, 3]\n",
            "1\n",
            "2\n",
            "3\n"
          ],
          "name": "stdout"
        }
      ]
    },
    {
      "cell_type": "code",
      "metadata": {
        "id": "hLSgjnRIDrA3",
        "colab": {
          "base_uri": "https://localhost:8080/"
        },
        "outputId": "c6e6b24e-ca31-446b-c27b-550debaadf5d"
      },
      "source": [
        "dic = {1:'KIM', 2:'PARK', 3:'LEE'}\n",
        "\n",
        "a = dic.items()\n",
        "\n",
        "print(a)"
      ],
      "execution_count": null,
      "outputs": [
        {
          "output_type": "stream",
          "text": [
            "dict_items([(1, 'KIM'), (2, 'PARK'), (3, 'LEE')])\n"
          ],
          "name": "stdout"
        }
      ]
    },
    {
      "cell_type": "code",
      "metadata": {
        "id": "zKcMX1pmDrA3",
        "colab": {
          "base_uri": "https://localhost:8080/"
        },
        "outputId": "cdac4bd0-34d5-44f4-ff53-e0ade37060a2"
      },
      "source": [
        "dic = {1:'KIM', 2:'PARK', 3:'LEE'}\n",
        "\n",
        "dic.clear()\n",
        "\n",
        "print(dic)"
      ],
      "execution_count": null,
      "outputs": [
        {
          "output_type": "stream",
          "text": [
            "{}\n"
          ],
          "name": "stdout"
        }
      ]
    },
    {
      "cell_type": "code",
      "metadata": {
        "id": "Gs0ytoM-DrA3",
        "colab": {
          "base_uri": "https://localhost:8080/"
        },
        "outputId": "c1e4a0af-dade-4700-e88a-a991325470c7"
      },
      "source": [
        "dic = {1:'KIM', 2:'PARK', 3:'LEE'}\n",
        "\n",
        "print(dic.get(1))\n",
        "print(dic.get('nokey'))\n",
        "print(dic.get('nokey', 'default return if no key'))\n",
        "\n",
        "print(1 in dic)\n",
        "print(4 in dic)"
      ],
      "execution_count": null,
      "outputs": [
        {
          "output_type": "stream",
          "text": [
            "KIM\n",
            "None\n",
            "default return if no key\n",
            "True\n",
            "False\n"
          ],
          "name": "stdout"
        }
      ]
    },
    {
      "cell_type": "markdown",
      "metadata": {
        "id": "jdi4uRUODrA3"
      },
      "source": [
        "## 02-6 집합 자료형"
      ]
    },
    {
      "cell_type": "code",
      "metadata": {
        "id": "X7ZI6lghDrA3",
        "colab": {
          "base_uri": "https://localhost:8080/"
        },
        "outputId": "af9a6949-9ca7-4303-dbb7-03c020bdfd67"
      },
      "source": [
        "s1 = set([1,2,3])\n",
        "print(s1)\n",
        "\n",
        "s2 = set('Hello')\n",
        "print(s2)"
      ],
      "execution_count": null,
      "outputs": [
        {
          "output_type": "stream",
          "text": [
            "{1, 2, 3}\n",
            "{'e', 'l', 'H', 'o'}\n"
          ],
          "name": "stdout"
        }
      ]
    },
    {
      "cell_type": "code",
      "metadata": {
        "id": "YV0gfhouDrA3",
        "colab": {
          "base_uri": "https://localhost:8080/"
        },
        "outputId": "cb84115a-9252-4cc3-fded-c8c2700c95c6"
      },
      "source": [
        "s1 = set([1, 2, 3, 4, 5, 6])\n",
        "s2 = set([4, 5, 6, 7, 8, 9])\n",
        "\n",
        "print(s1&s2)\n",
        "print(s1.intersection(s2))\n",
        "\n",
        "print(s1|s2)\n",
        "print(s1.union(s2))\n",
        "\n",
        "print(s1-s2)\n",
        "print(s1.difference(s2))\n"
      ],
      "execution_count": null,
      "outputs": [
        {
          "output_type": "stream",
          "text": [
            "{4, 5, 6}\n",
            "{4, 5, 6}\n",
            "{1, 2, 3, 4, 5, 6, 7, 8, 9}\n",
            "{1, 2, 3, 4, 5, 6, 7, 8, 9}\n",
            "{1, 2, 3}\n",
            "{1, 2, 3}\n"
          ],
          "name": "stdout"
        }
      ]
    },
    {
      "cell_type": "markdown",
      "metadata": {
        "id": "Vpiw24GLDrA3"
      },
      "source": [
        "기타 집합 관련 함수 \n",
        "- add\n",
        "- update\n",
        "- remove"
      ]
    },
    {
      "cell_type": "markdown",
      "metadata": {
        "id": "cVkpQfODDrA4"
      },
      "source": [
        "## 02-7 자료형의 참과 거짓"
      ]
    },
    {
      "cell_type": "code",
      "metadata": {
        "id": "6Jr6aQ24DrA4",
        "colab": {
          "base_uri": "https://localhost:8080/"
        },
        "outputId": "7df86434-86c3-4e85-93b8-b7f6b51e7b2d"
      },
      "source": [
        "if []:\n",
        "    print(\"True\")\n",
        "else:\n",
        "    print(\"False\")\n",
        "\n",
        "\n",
        "if \"\":\n",
        "    print(\"True\")\n",
        "else:\n",
        "    print(\"False\")\n",
        "\n",
        "\n",
        "if 0:\n",
        "    print(\"True\")\n",
        "else:\n",
        "    print(\"False\")    \n",
        "    \n",
        "\n",
        "if None:\n",
        "    print(\"True\")\n",
        "else:\n",
        "    print(\"False\")\n",
        "    "
      ],
      "execution_count": null,
      "outputs": [
        {
          "output_type": "stream",
          "text": [
            "False\n",
            "False\n",
            "False\n",
            "False\n"
          ],
          "name": "stdout"
        }
      ]
    },
    {
      "cell_type": "markdown",
      "metadata": {
        "id": "qpo0FHZcDrA4"
      },
      "source": [
        "## 02-8 변수"
      ]
    },
    {
      "cell_type": "code",
      "metadata": {
        "id": "thALphP5DrA4",
        "colab": {
          "base_uri": "https://localhost:8080/"
        },
        "outputId": "59ea1e69-555d-4772-a9b3-7fb04f4cb0be"
      },
      "source": [
        "type(3.2)"
      ],
      "execution_count": null,
      "outputs": [
        {
          "output_type": "execute_result",
          "data": {
            "text/plain": [
              "float"
            ]
          },
          "metadata": {
            "tags": []
          },
          "execution_count": 37
        }
      ]
    },
    {
      "cell_type": "code",
      "metadata": {
        "id": "52dTATXhDrA4",
        "colab": {
          "base_uri": "https://localhost:8080/"
        },
        "outputId": "cd4fa863-0c81-4561-cedd-e98b15c347dd"
      },
      "source": [
        "a = 3\n",
        "b = 3\n",
        "a is b"
      ],
      "execution_count": null,
      "outputs": [
        {
          "output_type": "execute_result",
          "data": {
            "text/plain": [
              "True"
            ]
          },
          "metadata": {
            "tags": []
          },
          "execution_count": 38
        }
      ]
    },
    {
      "cell_type": "code",
      "metadata": {
        "id": "eRnAKn71DrA4",
        "colab": {
          "base_uri": "https://localhost:8080/"
        },
        "outputId": "038c91ac-c0dd-4254-e8d8-a7c08a0b855e"
      },
      "source": [
        "import sys\n",
        "sys.getrefcount(3)"
      ],
      "execution_count": null,
      "outputs": [
        {
          "output_type": "execute_result",
          "data": {
            "text/plain": [
              "1241"
            ]
          },
          "metadata": {
            "tags": []
          },
          "execution_count": 39
        }
      ]
    },
    {
      "cell_type": "code",
      "metadata": {
        "scrolled": true,
        "id": "tpIiyFSbDrA4",
        "colab": {
          "base_uri": "https://localhost:8080/"
        },
        "outputId": "9f459839-3847-40ec-8470-062ad4083b9a"
      },
      "source": [
        "a = 3\n",
        "b = 5\n",
        "print(\" a = %d , b = %d\" % (a, b))"
      ],
      "execution_count": null,
      "outputs": [
        {
          "output_type": "stream",
          "text": [
            " a = 3 , b = 5\n"
          ],
          "name": "stdout"
        }
      ]
    },
    {
      "cell_type": "code",
      "metadata": {
        "id": "hNTpN0qSDrA4",
        "colab": {
          "base_uri": "https://localhost:8080/"
        },
        "outputId": "9c280ea9-3994-4a7f-9681-2dc09e6bdaf0"
      },
      "source": [
        "a, b = b, a\n",
        "print(\" a = %d , b = %d\" % (a, b))"
      ],
      "execution_count": null,
      "outputs": [
        {
          "output_type": "stream",
          "text": [
            " a = 5 , b = 3\n"
          ],
          "name": "stdout"
        }
      ]
    },
    {
      "cell_type": "code",
      "metadata": {
        "id": "7KHba9LdDrA5",
        "colab": {
          "base_uri": "https://localhost:8080/"
        },
        "outputId": "933960c0-1b54-42ff-9873-dd5f7f89d194"
      },
      "source": [
        "del(a)\n",
        "del(b)\n",
        "\n",
        "a = [1, 2, 3]\n",
        "b = a\n",
        "print(a, b)"
      ],
      "execution_count": null,
      "outputs": [
        {
          "output_type": "stream",
          "text": [
            "[1, 2, 3] [1, 2, 3]\n"
          ],
          "name": "stdout"
        }
      ]
    },
    {
      "cell_type": "code",
      "metadata": {
        "id": "CMIGbb6BDrA5",
        "colab": {
          "base_uri": "https://localhost:8080/"
        },
        "outputId": "e8cf767a-09b4-4f1c-819f-ef9578cbcee0"
      },
      "source": [
        "a[0] = 4\n",
        "print(a,b)"
      ],
      "execution_count": null,
      "outputs": [
        {
          "output_type": "stream",
          "text": [
            "[4, 2, 3] [4, 2, 3]\n"
          ],
          "name": "stdout"
        }
      ]
    },
    {
      "cell_type": "code",
      "metadata": {
        "id": "vLVK6tXHDrA5",
        "colab": {
          "base_uri": "https://localhost:8080/"
        },
        "outputId": "d38704d3-73b2-42bc-920b-a37a374aa0a9"
      },
      "source": [
        "del(a)\n",
        "del(b)\n",
        "\n",
        "a = [1,2,3]\n",
        "b = a[:]\n",
        "\n",
        "a[0] = 4\n",
        "print(a,b)"
      ],
      "execution_count": null,
      "outputs": [
        {
          "output_type": "stream",
          "text": [
            "[4, 2, 3] [1, 2, 3]\n"
          ],
          "name": "stdout"
        }
      ]
    },
    {
      "cell_type": "markdown",
      "metadata": {
        "id": "tiTcJecUDrA5"
      },
      "source": [
        "## 03-1 if 문"
      ]
    },
    {
      "cell_type": "code",
      "metadata": {
        "id": "LO5rtb2LDrA5",
        "colab": {
          "base_uri": "https://localhost:8080/"
        },
        "outputId": "406b07dd-4607-4f37-9c70-fa93ab43303a"
      },
      "source": [
        "a = 401\n",
        "if a > 400 :\n",
        "    print(\"larger than 400\")\n",
        "else:\n",
        "    print(\"smaller than 400\")"
      ],
      "execution_count": null,
      "outputs": [
        {
          "output_type": "stream",
          "text": [
            "larger than 400\n"
          ],
          "name": "stdout"
        }
      ]
    },
    {
      "cell_type": "code",
      "metadata": {
        "colab": {
          "base_uri": "https://localhost:8080/"
        },
        "id": "-8pQzOTDtq49",
        "outputId": "b4fa5e05-243f-4e89-fa5c-62ae3430c8ca"
      },
      "source": [
        "a = 31\n",
        "if a is not 30:       # != 대신 is not을 사용할 수 있음\n",
        "  print('a is not 30')\n",
        "else:\n",
        "  print('a is 30') "
      ],
      "execution_count": null,
      "outputs": [
        {
          "output_type": "stream",
          "text": [
            "a is not 30\n"
          ],
          "name": "stdout"
        }
      ]
    },
    {
      "cell_type": "code",
      "metadata": {
        "id": "YKAtQKHeDrA5",
        "colab": {
          "base_uri": "https://localhost:8080/"
        },
        "outputId": "8d2cce24-1fc5-4e4b-88ac-443188595f5f"
      },
      "source": [
        "del(a)\n",
        "\n",
        "a = 'check'\n",
        "\n",
        "if a == 'test':\n",
        "    print(\"TEST\")\n",
        "elif a == 'check':\n",
        "    print(\"CHECK\")\n",
        "elif a == 'then':\n",
        "    print(\"THEN\")\n",
        "else:\n",
        "    print(\"OTHERS\")"
      ],
      "execution_count": null,
      "outputs": [
        {
          "output_type": "stream",
          "text": [
            "CHECK\n"
          ],
          "name": "stdout"
        }
      ]
    },
    {
      "cell_type": "markdown",
      "metadata": {
        "id": "G_jCRN3ODrA5"
      },
      "source": [
        "## 03-2 while 문"
      ]
    },
    {
      "cell_type": "code",
      "metadata": {
        "id": "JtS1AVjeDrA5",
        "colab": {
          "base_uri": "https://localhost:8080/"
        },
        "outputId": "9aae32f1-a4a7-4db4-85ae-8b92e5e4f3f3"
      },
      "source": [
        "del(a)\n",
        "\n",
        "a = 0\n",
        "total = 0\n",
        "while a < 20:\n",
        "    total = total + a\n",
        "    a = a + 2\n",
        "\n",
        "print(total)\n",
        "\n"
      ],
      "execution_count": null,
      "outputs": [
        {
          "output_type": "stream",
          "text": [
            "90\n"
          ],
          "name": "stdout"
        }
      ]
    },
    {
      "cell_type": "markdown",
      "metadata": {
        "id": "dJXqq1hUDrA5"
      },
      "source": [
        "## 03-3 for 문"
      ]
    },
    {
      "cell_type": "code",
      "metadata": {
        "colab": {
          "base_uri": "https://localhost:8080/"
        },
        "id": "RE5wA9yPntM9",
        "outputId": "811b239b-c15d-4c35-e5e8-ee4959220b47"
      },
      "source": [
        "for i in range (0,10):\n",
        "  print(i)"
      ],
      "execution_count": null,
      "outputs": [
        {
          "output_type": "stream",
          "text": [
            "0\n",
            "1\n",
            "2\n",
            "3\n",
            "4\n",
            "5\n",
            "6\n",
            "7\n",
            "8\n",
            "9\n"
          ],
          "name": "stdout"
        }
      ]
    },
    {
      "cell_type": "code",
      "metadata": {
        "colab": {
          "base_uri": "https://localhost:8080/"
        },
        "id": "rVhzZQqKo01q",
        "outputId": "c5060f3c-391f-43d4-b4dc-11c872c13c1f"
      },
      "source": [
        "for i in range(10):\n",
        "  print(i)"
      ],
      "execution_count": null,
      "outputs": [
        {
          "output_type": "stream",
          "text": [
            "0\n",
            "1\n",
            "2\n",
            "3\n",
            "4\n",
            "5\n",
            "6\n",
            "7\n",
            "8\n",
            "9\n"
          ],
          "name": "stdout"
        }
      ]
    },
    {
      "cell_type": "code",
      "metadata": {
        "id": "vPad2QM6DrA5",
        "colab": {
          "base_uri": "https://localhost:8080/"
        },
        "outputId": "56aff367-a844-4c2a-8954-59ec857c8382"
      },
      "source": [
        "del(a)\n",
        "a = ['a', 'b', 'c', 'd']\n",
        "\n",
        "for i in a:\n",
        "    print(i)"
      ],
      "execution_count": null,
      "outputs": [
        {
          "output_type": "stream",
          "text": [
            "a\n",
            "b\n",
            "c\n",
            "d\n"
          ],
          "name": "stdout"
        }
      ]
    },
    {
      "cell_type": "code",
      "metadata": {
        "id": "MURh6mBNDrA6",
        "colab": {
          "base_uri": "https://localhost:8080/"
        },
        "outputId": "57359d5f-e794-4562-da71-92379895617b"
      },
      "source": [
        "for i in range(len(a)):\n",
        "    print(a[i])"
      ],
      "execution_count": null,
      "outputs": [
        {
          "output_type": "stream",
          "text": [
            "a\n",
            "b\n",
            "c\n",
            "d\n"
          ],
          "name": "stdout"
        }
      ]
    },
    {
      "cell_type": "code",
      "metadata": {
        "id": "DmJJLl6tDrA6",
        "colab": {
          "base_uri": "https://localhost:8080/"
        },
        "outputId": "664ed3f7-3477-409b-eeb8-510fa7996447"
      },
      "source": [
        "for i in range(0,4):\n",
        "    print(a[i])\n"
      ],
      "execution_count": null,
      "outputs": [
        {
          "output_type": "stream",
          "text": [
            "a\n",
            "b\n",
            "c\n",
            "d\n"
          ],
          "name": "stdout"
        }
      ]
    },
    {
      "cell_type": "code",
      "metadata": {
        "id": "fZ5eIXo_DrA6",
        "colab": {
          "base_uri": "https://localhost:8080/"
        },
        "outputId": "a2e91f14-4676-4257-a560-bd3bb61737e6"
      },
      "source": [
        "del(b)\n",
        "b = [1, 2, 3, 4, 5]\n",
        "result = [i * 3 for i in b if i%2 == 0]\n",
        "print(result)"
      ],
      "execution_count": null,
      "outputs": [
        {
          "output_type": "stream",
          "text": [
            "[6, 12]\n"
          ],
          "name": "stdout"
        }
      ]
    },
    {
      "cell_type": "markdown",
      "metadata": {
        "id": "RVQGA9Q5DrA6"
      },
      "source": [
        "## 04-1 함수"
      ]
    },
    {
      "cell_type": "code",
      "metadata": {
        "colab": {
          "base_uri": "https://localhost:8080/"
        },
        "id": "jSl4eqHkqRcJ",
        "outputId": "c94b1f8c-c6f3-4cda-bee6-16abef1fa6a2"
      },
      "source": [
        "# lambda를 사용한 간단한 함수\n",
        "\n",
        "add = lambda a, b : a + b\n",
        "add(2,3)"
      ],
      "execution_count": null,
      "outputs": [
        {
          "output_type": "execute_result",
          "data": {
            "text/plain": [
              "5"
            ]
          },
          "metadata": {
            "tags": []
          },
          "execution_count": 104
        }
      ]
    },
    {
      "cell_type": "code",
      "metadata": {
        "id": "qbaRTkp-DrA6",
        "colab": {
          "base_uri": "https://localhost:8080/"
        },
        "outputId": "b3a6771c-fe94-409f-f137-8297bee7170d"
      },
      "source": [
        "def sum(a,b):\n",
        "    return a+b\n",
        "\n",
        "a = 3\n",
        "b = 4\n",
        "print(sum(a,b))"
      ],
      "execution_count": null,
      "outputs": [
        {
          "output_type": "stream",
          "text": [
            "7\n"
          ],
          "name": "stdout"
        }
      ]
    },
    {
      "cell_type": "code",
      "metadata": {
        "id": "YPolG7gCDrA6",
        "colab": {
          "base_uri": "https://localhost:8080/"
        },
        "outputId": "8b99f148-625c-4746-b834-4c5b5865e017"
      },
      "source": [
        "def sum_many(*args):\n",
        "    sum = 0\n",
        "    for i in args:\n",
        "        sum = sum + i\n",
        "    return sum\n",
        "\n",
        "print(sum_many(1,2,3,4,5,6,7))\n"
      ],
      "execution_count": null,
      "outputs": [
        {
          "output_type": "stream",
          "text": [
            "28\n"
          ],
          "name": "stdout"
        }
      ]
    },
    {
      "cell_type": "code",
      "metadata": {
        "id": "AscVPKMqDrA6",
        "colab": {
          "base_uri": "https://localhost:8080/"
        },
        "outputId": "9552c56b-0eb7-420f-a380-7c7863584ae8"
      },
      "source": [
        "def sum_and_mul(a,b):\n",
        "    return a+b, a*b\n",
        "\n",
        "print(sum_and_mul(4,5))"
      ],
      "execution_count": null,
      "outputs": [
        {
          "output_type": "stream",
          "text": [
            "(9, 20)\n"
          ],
          "name": "stdout"
        }
      ]
    },
    {
      "cell_type": "markdown",
      "metadata": {
        "id": "fqcFOY3EDrA6"
      },
      "source": [
        "## 04-2 사용자 입력과 출력"
      ]
    },
    {
      "cell_type": "code",
      "metadata": {
        "colab": {
          "base_uri": "https://localhost:8080/"
        },
        "id": "urgb4OJwDrA6",
        "outputId": "1de72647-42b7-4fec-d66b-f225f2b77eaf"
      },
      "source": [
        "a = input(\"아무 글자나 입력해 보세요: \")\n",
        "\n",
        "a = a + \" \"\n",
        "result = a * 3\n",
        "print(result)"
      ],
      "execution_count": null,
      "outputs": [
        {
          "output_type": "stream",
          "text": [
            "아무 글자나 입력해 보세요: abc\n",
            "abc abc abc \n"
          ],
          "name": "stdout"
        }
      ]
    },
    {
      "cell_type": "code",
      "metadata": {
        "id": "v9JSZa-EDrA7",
        "colab": {
          "base_uri": "https://localhost:8080/"
        },
        "outputId": "e2e49785-5fdc-46fa-c630-019d4cbf4a55"
      },
      "source": [
        "print(\"life\" \"is\" \"too short\")\n",
        "print(\"life\"+\"is\"+\"too short\")\n",
        "print(\"life\", \"is\", \"too short\")\n",
        "\n",
        "for i in range(10):\n",
        "    print(i, end=' ')"
      ],
      "execution_count": null,
      "outputs": [
        {
          "output_type": "stream",
          "text": [
            "lifeistoo short\n",
            "lifeistoo short\n",
            "life is too short\n",
            "0 1 2 3 4 5 6 7 8 9 "
          ],
          "name": "stdout"
        }
      ]
    }
  ]
}