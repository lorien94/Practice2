{
  "nbformat": 4,
  "nbformat_minor": 0,
  "metadata": {
    "kernelspec": {
      "display_name": "Python 3",
      "language": "python",
      "name": "python3"
    },
    "language_info": {
      "codemirror_mode": {
        "name": "ipython",
        "version": 3
      },
      "file_extension": ".py",
      "mimetype": "text/x-python",
      "name": "python",
      "nbconvert_exporter": "python",
      "pygments_lexer": "ipython3",
      "version": "3.6.4"
    },
    "colab": {
      "name": "Day1 - Setup and Python Basics (rev01)",
      "provenance": [],
      "collapsed_sections": [],
      "toc_visible": true
    }
  },
  "cells": [
    {
      "cell_type": "markdown",
      "metadata": {
        "id": "ofWQB125DrAs"
      },
      "source": [
        "## Google Colab 단축키\n",
        "\n",
        "- 편집 모드\n",
        " - 편집 모드로 들어가려면 셀 위에서 마우스 더블클릭\n",
        " - 편집 모드에서 나오려면 ESC 키\n",
        "\n",
        "- 코드 수행\n",
        " - Ctrl + ENTER : 해당 셀 수행: \n",
        " - Shift + ENTER = 해당 셀을 실행하고 커서를 다음 셀로 넘김\n",
        " - Alt + ENTER = 해당 셀을 실행하고 셀을 삽입한 후 커서를 삽입한 셀로 넘김 \n",
        "\n",
        "- 셀 삽입/삭제\n",
        " - Ctrl + M A: 코드 셀 위에 삽입\n",
        " - Ctrl + M B: 코드 셀 아래 삽입\n",
        " - Ctrl + M D: 셀 지우기\n",
        " - Ctrl + M Y: 코드 셀로 변경\n",
        " - Ctrl + M M: 마크다운 셀로 변경\n",
        " - Ctrl + M Z: 실행 취소\n",
        " \n",
        "- 모든 출력지우기: Ctrl + Shift + P -> \"모든 출력 지우기\"\n",
        "\n",
        "- 참고: [구글 코랩(Colab) 단축키 모음](https://surfonmedia.tistory.com/1)"
      ]
    },
    {
      "cell_type": "markdown",
      "metadata": {
        "id": "Ql66ZvN9VfWW"
      },
      "source": [
        "## 시작"
      ]
    },
    {
      "cell_type": "code",
      "metadata": {
        "colab": {
          "base_uri": "https://localhost:8080/"
        },
        "id": "vnEQILA4VirD",
        "outputId": "62790e71-1fad-4607-8e03-0d0ecfae3d93"
      },
      "source": [
        "print(\"Hello World !!!\")\n",
        "print(\"Hello World !!!\")"
      ],
      "execution_count": 22,
      "outputs": [
        {
          "output_type": "stream",
          "name": "stdout",
          "text": [
            "Hello World !!!\n",
            "Hello World !!!\n"
          ]
        }
      ]
    },
    {
      "cell_type": "code",
      "metadata": {
        "id": "vl0AxNFxXZGH"
      },
      "source": [
        "a = 110\n",
        "print(a)"
      ],
      "execution_count": null,
      "outputs": []
    },
    {
      "cell_type": "code",
      "metadata": {
        "id": "G9g03YcQXhzO"
      },
      "source": [
        "a = input(\"아무 글자나 입력해 보세요: \")\n",
        "print(a)"
      ],
      "execution_count": null,
      "outputs": []
    },
    {
      "cell_type": "markdown",
      "metadata": {
        "id": "1npLNEy2DrAu"
      },
      "source": [
        "## 기본 자료형"
      ]
    },
    {
      "cell_type": "markdown",
      "metadata": {
        "id": "f-ihD_j5RYvv"
      },
      "source": [
        "### 숫자 (Numerical)"
      ]
    },
    {
      "cell_type": "code",
      "metadata": {
        "id": "_9Hc7d78DrAu"
      },
      "source": [
        "a = 2 ** 4\n",
        "print(a)\n",
        "\n",
        "a = 7 / 4\n",
        "print (a)\n",
        "\n",
        "a = 7 // 4    # 몫만 취하는 나누기\n",
        "print (a)"
      ],
      "execution_count": null,
      "outputs": []
    },
    {
      "cell_type": "code",
      "metadata": {
        "id": "S4H9JsLJoL9L"
      },
      "source": [
        "# round (숫자, 표시할 소수점 자릿수)\n",
        "\n",
        "print(round (3.141592, 3))\n",
        "print(round (3.4))\n",
        "print(round (3.6))"
      ],
      "execution_count": null,
      "outputs": []
    },
    {
      "cell_type": "code",
      "metadata": {
        "id": "BxUT4JTEtFEp"
      },
      "source": [
        "a = 3.141592\n",
        "print(a, '   ', type(a))\n",
        "a = int (a)\n",
        "print(a, '   ',  type(a))\n",
        "a = float (a)\n",
        "print(a, '   ',  type(a))"
      ],
      "execution_count": null,
      "outputs": []
    },
    {
      "cell_type": "markdown",
      "metadata": {
        "id": "RBkezSYfDrAv"
      },
      "source": [
        "### 문자열 (String)"
      ]
    },
    {
      "cell_type": "code",
      "metadata": {
        "id": "CBnr8DYJDrAw"
      },
      "source": [
        "multiline = '''\n",
        "Multi-line string test\n",
        "Multi-line Multi-line Multi-line Multi-line Multi-line \n",
        "\n",
        "'''\n",
        "print(multiline)"
      ],
      "execution_count": null,
      "outputs": []
    },
    {
      "cell_type": "code",
      "metadata": {
        "id": "SMv-U98WDrAw"
      },
      "source": [
        "a = \"abcdefg\"\n",
        "print(a[0])\n",
        "print(a[6])\n",
        "print(a[-1])\n",
        "print(a[-2])"
      ],
      "execution_count": null,
      "outputs": []
    },
    {
      "cell_type": "code",
      "metadata": {
        "id": "0djm3mAFDrAx"
      },
      "source": [
        "print(a)\n",
        "print(a[:])\n",
        "print('---')\n",
        "\n",
        "print(a[:3])\n",
        "print(a[0:3])\n",
        "print('---')\n",
        "\n",
        "print(a[1:3])\n",
        "print('---')\n",
        "\n",
        "print(a[3:])\n"
      ],
      "execution_count": null,
      "outputs": []
    },
    {
      "cell_type": "code",
      "metadata": {
        "id": "C8yqjOVADrAx"
      },
      "source": [
        "a = \"Pithon\"\n",
        "# a[1] = 'y'    # 오류를 출력하게됨"
      ],
      "execution_count": null,
      "outputs": []
    },
    {
      "cell_type": "code",
      "metadata": {
        "id": "E0VQaRS0DrAy"
      },
      "source": [
        "b = a [:1] + 'y'+ a[2:]\n",
        "print(b)"
      ],
      "execution_count": null,
      "outputs": []
    },
    {
      "cell_type": "code",
      "metadata": {
        "id": "gcV5yVGJDrAz"
      },
      "source": [
        "a = 3\n",
        "print(\"I eat %d apples\" % a)\n",
        "print(\"I eat %s apples\" % \"three\")\n",
        "\n",
        "print(\"I eat %d apples , I eat %s apples\" % (a,\"three\"))\n",
        "\n",
        "print(\"I eat %f apples\" % 3.14)\n",
        "print(\"I eat %s apples\" % 3.14)\n",
        "\n",
        "print(\"%d %% increased.\" % 4)"
      ],
      "execution_count": null,
      "outputs": []
    },
    {
      "cell_type": "code",
      "metadata": {
        "id": "wydLmmtsDrAz"
      },
      "source": [
        "print(\"|%10d|\" % 314)\n",
        "print(\"|%-10d|\" % 314)\n",
        "print(\"|%10.2f|\" % 3.141592)"
      ],
      "execution_count": null,
      "outputs": []
    },
    {
      "cell_type": "code",
      "metadata": {
        "id": "lXpT9QIaDrAz"
      },
      "source": [
        "a = \"hobby\"\n",
        "\n",
        "print(a.count('b'))\n",
        "\n",
        "print(a.find('o'))\n",
        "print(a.find('s'))\n",
        "\n",
        "print(a.index('o'))\n",
        "print(a.index('s'))\n"
      ],
      "execution_count": null,
      "outputs": []
    },
    {
      "cell_type": "code",
      "metadata": {
        "id": "4_B4MAv4DrA0"
      },
      "source": [
        "a = \",\"\n",
        "b = a.join('abcd')\n",
        "print(b)"
      ],
      "execution_count": null,
      "outputs": []
    },
    {
      "cell_type": "code",
      "metadata": {
        "id": "mntRTGkBDrA0"
      },
      "source": [
        "a = '   hi there   '\n",
        "\n",
        "print('|' + a.upper() + '|')\n",
        "print('|' + a.lower() + '|')\n",
        "\n",
        "print('|' + a.lstrip() + '|')\n",
        "print('|' + a.rstrip() + '|')\n",
        "print('|' + a.strip() + '|')\n",
        "\n",
        "print(a.replace(\"hi\", \"hello\"))"
      ],
      "execution_count": null,
      "outputs": []
    },
    {
      "cell_type": "code",
      "metadata": {
        "id": "3U-t5Bt2DrA0"
      },
      "source": [
        "a = \"Life is too short\"\n",
        "print(a.split())\n",
        "\n",
        "a = \"Life:is:too:short\"\n",
        "print(a.split())\n",
        "print(a.split(':'))"
      ],
      "execution_count": null,
      "outputs": []
    },
    {
      "cell_type": "markdown",
      "metadata": {
        "id": "tX0v0-h3DrA1"
      },
      "source": [
        "### 리스트 (List)"
      ]
    },
    {
      "cell_type": "code",
      "metadata": {
        "id": "7Ek6ugt5DrA1"
      },
      "source": [
        "a = [1, 2, 3, ['a', 'b', 'c']]\n",
        "\n",
        "print(a[-1])\n",
        "print(a[-1][0])"
      ],
      "execution_count": null,
      "outputs": []
    },
    {
      "cell_type": "code",
      "metadata": {
        "id": "Imd4OaWADrA1"
      },
      "source": [
        "a = [1, 2, 3, 4, 5]\n",
        "\n",
        "print(a[1:3])\n",
        "\n",
        "print(str(a[3])+'hi')\n",
        "\n",
        "a[2] = 100\n",
        "print(a)"
      ],
      "execution_count": null,
      "outputs": []
    },
    {
      "cell_type": "code",
      "metadata": {
        "id": "72w6NkL5DrA1"
      },
      "source": [
        "a = [1, 2, 3, 4, 5]\n",
        "\n",
        "a[1:2] = ['a', 'b', 'c']\n",
        "print(a)"
      ],
      "execution_count": null,
      "outputs": []
    },
    {
      "cell_type": "code",
      "metadata": {
        "id": "aa2ml2pQDrA1"
      },
      "source": [
        "a = [1, 2, 3, 4, 5]\n",
        "\n",
        "a[1] = ['a', 'b', 'c']\n",
        "print(a)"
      ],
      "execution_count": null,
      "outputs": []
    },
    {
      "cell_type": "code",
      "metadata": {
        "id": "VGBb4AKKDrA1"
      },
      "source": [
        "a = [1, 2, 3, 4, 5]\n",
        "\n",
        "del a[1]\n",
        "print(a)"
      ],
      "execution_count": null,
      "outputs": []
    },
    {
      "cell_type": "markdown",
      "metadata": {
        "id": "NBWpFa0gDrA2"
      },
      "source": [
        "그 이외의 함수들\n",
        "- append\n",
        "- sort\n",
        "- reverse\n",
        "- index\n",
        "- insert\n",
        "- remove\n",
        "- pop\n",
        "- count\n",
        "- extend\n"
      ]
    },
    {
      "cell_type": "markdown",
      "metadata": {
        "id": "wBelY98hDrA2"
      },
      "source": [
        "## 02-4 튜플 자료형"
      ]
    },
    {
      "cell_type": "code",
      "metadata": {
        "id": "VmN7zK3xDrA2"
      },
      "source": [
        "t1 = ()\n",
        "t2 = (1,)\n",
        "t3 = (1, 2, 3)\n",
        "t4 = 1, 2, 3\n",
        "\n",
        "# del t3[2] # 오류출력"
      ],
      "execution_count": null,
      "outputs": []
    },
    {
      "cell_type": "markdown",
      "metadata": {
        "id": "IddPMM_pDrA2"
      },
      "source": [
        "## 02-5 딕셔너리 자료형"
      ]
    },
    {
      "cell_type": "code",
      "metadata": {
        "id": "9pGQ_k9nDrA2"
      },
      "source": [
        "dic = {1:'KIM', 2:'PARK', 3:'LEE'}\n",
        "print(dic)\n",
        "\n",
        "dic[4] = 'CHOI'\n",
        "print(dic)\n",
        "\n",
        "dic['noname'] = 'nonono'\n",
        "print(dic)\n",
        "\n",
        "print(dic['noname'])\n",
        "\n",
        "del dic[1]\n",
        "print(dic)\n",
        "\n",
        "# print(dic['nokey']) # 오류출력"
      ],
      "execution_count": null,
      "outputs": []
    },
    {
      "cell_type": "code",
      "metadata": {
        "id": "iHYr022XDrA2"
      },
      "source": [
        "dic = {1:'KIM', 2:'PARK', 3:'LEE'}\n",
        "\n",
        "# keys()는 dic_keys라는 객체를 return\n",
        "\n",
        "a = dic.keys()\n",
        "print(a)\n",
        "\n",
        "for k in dic.keys():\n",
        "    print(k)\n",
        "\n",
        "# dic_keys 객체를 다시 list로 변환해서 사용\n",
        "\n",
        "a = list(dic.keys())\n",
        "print(a)\n",
        "\n",
        "for k in a:\n",
        "    print(k)\n"
      ],
      "execution_count": null,
      "outputs": []
    },
    {
      "cell_type": "code",
      "metadata": {
        "id": "hLSgjnRIDrA3"
      },
      "source": [
        "dic = {1:'KIM', 2:'PARK', 3:'LEE'}\n",
        "\n",
        "a = dic.items()\n",
        "\n",
        "print(a)"
      ],
      "execution_count": null,
      "outputs": []
    },
    {
      "cell_type": "code",
      "metadata": {
        "id": "zKcMX1pmDrA3"
      },
      "source": [
        "dic = {1:'KIM', 2:'PARK', 3:'LEE'}\n",
        "\n",
        "dic.clear()\n",
        "\n",
        "print(dic)"
      ],
      "execution_count": null,
      "outputs": []
    },
    {
      "cell_type": "code",
      "metadata": {
        "id": "Gs0ytoM-DrA3"
      },
      "source": [
        "dic = {1:'KIM', 2:'PARK', 3:'LEE'}\n",
        "\n",
        "print(dic.get(1))\n",
        "print(dic.get('nokey'))\n",
        "print(dic.get('nokey', 'default return if no key'))\n",
        "\n",
        "print(1 in dic)\n",
        "print(4 in dic)"
      ],
      "execution_count": null,
      "outputs": []
    },
    {
      "cell_type": "markdown",
      "metadata": {
        "id": "jdi4uRUODrA3"
      },
      "source": [
        "## 02-6 집합 자료형"
      ]
    },
    {
      "cell_type": "code",
      "metadata": {
        "id": "X7ZI6lghDrA3"
      },
      "source": [
        "s1 = set([1,2,3])\n",
        "print(s1)\n",
        "\n",
        "s2 = set('Hello')\n",
        "print(s2)"
      ],
      "execution_count": null,
      "outputs": []
    },
    {
      "cell_type": "code",
      "metadata": {
        "id": "YV0gfhouDrA3"
      },
      "source": [
        "s1 = set([1, 2, 3, 4, 5, 6])\n",
        "s2 = set([4, 5, 6, 7, 8, 9])\n",
        "\n",
        "print(s1&s2)\n",
        "print(s1.intersection(s2))\n",
        "\n",
        "print(s1|s2)\n",
        "print(s1.union(s2))\n",
        "\n",
        "print(s1-s2)\n",
        "print(s1.difference(s2))\n"
      ],
      "execution_count": null,
      "outputs": []
    },
    {
      "cell_type": "markdown",
      "metadata": {
        "id": "Vpiw24GLDrA3"
      },
      "source": [
        "기타 집합 관련 함수 \n",
        "- add\n",
        "- update\n",
        "- remove"
      ]
    },
    {
      "cell_type": "markdown",
      "metadata": {
        "id": "cVkpQfODDrA4"
      },
      "source": [
        "## 02-7 자료형의 참과 거짓"
      ]
    },
    {
      "cell_type": "code",
      "metadata": {
        "id": "6Jr6aQ24DrA4"
      },
      "source": [
        "if []:\n",
        "    print(\"True\")\n",
        "else:\n",
        "    print(\"False\")\n",
        "\n",
        "\n",
        "if \"\":\n",
        "    print(\"True\")\n",
        "else:\n",
        "    print(\"False\")\n",
        "\n",
        "\n",
        "if 0:\n",
        "    print(\"True\")\n",
        "else:\n",
        "    print(\"False\")    \n",
        "    \n",
        "\n",
        "if None:\n",
        "    print(\"True\")\n",
        "else:\n",
        "    print(\"False\")\n",
        "    "
      ],
      "execution_count": null,
      "outputs": []
    },
    {
      "cell_type": "markdown",
      "metadata": {
        "id": "qpo0FHZcDrA4"
      },
      "source": [
        "## 02-8 변수"
      ]
    },
    {
      "cell_type": "code",
      "metadata": {
        "id": "thALphP5DrA4"
      },
      "source": [
        "type(3.2)"
      ],
      "execution_count": null,
      "outputs": []
    },
    {
      "cell_type": "code",
      "metadata": {
        "id": "52dTATXhDrA4"
      },
      "source": [
        "a = 3\n",
        "b = 3\n",
        "a is b"
      ],
      "execution_count": null,
      "outputs": []
    },
    {
      "cell_type": "code",
      "metadata": {
        "id": "eRnAKn71DrA4"
      },
      "source": [
        "import sys\n",
        "sys.getrefcount(3)"
      ],
      "execution_count": null,
      "outputs": []
    },
    {
      "cell_type": "code",
      "metadata": {
        "scrolled": true,
        "id": "tpIiyFSbDrA4"
      },
      "source": [
        "a = 3\n",
        "b = 5\n",
        "print(\" a = %d , b = %d\" % (a, b))"
      ],
      "execution_count": null,
      "outputs": []
    },
    {
      "cell_type": "code",
      "metadata": {
        "id": "hNTpN0qSDrA4"
      },
      "source": [
        "a, b = b, a\n",
        "print(\" a = %d , b = %d\" % (a, b))"
      ],
      "execution_count": null,
      "outputs": []
    },
    {
      "cell_type": "code",
      "metadata": {
        "id": "7KHba9LdDrA5"
      },
      "source": [
        "del(a)\n",
        "del(b)\n",
        "\n",
        "a = [1, 2, 3]\n",
        "b = a\n",
        "print(a, b)"
      ],
      "execution_count": null,
      "outputs": []
    },
    {
      "cell_type": "code",
      "metadata": {
        "id": "CMIGbb6BDrA5"
      },
      "source": [
        "a[0] = 4\n",
        "print(a,b)"
      ],
      "execution_count": null,
      "outputs": []
    },
    {
      "cell_type": "code",
      "metadata": {
        "id": "vLVK6tXHDrA5"
      },
      "source": [
        "del(a)\n",
        "del(b)\n",
        "\n",
        "a = [1,2,3]\n",
        "b = a[:]\n",
        "\n",
        "a[0] = 4\n",
        "print(a,b)"
      ],
      "execution_count": null,
      "outputs": []
    },
    {
      "cell_type": "markdown",
      "metadata": {
        "id": "tiTcJecUDrA5"
      },
      "source": [
        "## 03-1 if 문"
      ]
    },
    {
      "cell_type": "code",
      "metadata": {
        "id": "LO5rtb2LDrA5"
      },
      "source": [
        "a = 401\n",
        "if a > 400 :\n",
        "    print(\"larger than 400\")\n",
        "else:\n",
        "    print(\"smaller than 400\")"
      ],
      "execution_count": null,
      "outputs": []
    },
    {
      "cell_type": "code",
      "metadata": {
        "id": "-8pQzOTDtq49"
      },
      "source": [
        "a = 31\n",
        "if a is not 30:       # != 대신 is not을 사용할 수 있음\n",
        "  print('a is not 30')\n",
        "else:\n",
        "  print('a is 30') "
      ],
      "execution_count": null,
      "outputs": []
    },
    {
      "cell_type": "code",
      "metadata": {
        "id": "YKAtQKHeDrA5"
      },
      "source": [
        "del(a)\n",
        "\n",
        "a = 'check'\n",
        "\n",
        "if a == 'test':\n",
        "    print(\"TEST\")\n",
        "elif a == 'check':\n",
        "    print(\"CHECK\")\n",
        "elif a == 'then':\n",
        "    print(\"THEN\")\n",
        "else:\n",
        "    print(\"OTHERS\")"
      ],
      "execution_count": null,
      "outputs": []
    },
    {
      "cell_type": "markdown",
      "metadata": {
        "id": "G_jCRN3ODrA5"
      },
      "source": [
        "## 03-2 while 문"
      ]
    },
    {
      "cell_type": "code",
      "metadata": {
        "id": "JtS1AVjeDrA5"
      },
      "source": [
        "del(a)\n",
        "\n",
        "a = 0\n",
        "total = 0\n",
        "while a < 20:\n",
        "    total = total + a\n",
        "    a = a + 2\n",
        "\n",
        "print(total)\n",
        "\n"
      ],
      "execution_count": null,
      "outputs": []
    },
    {
      "cell_type": "markdown",
      "metadata": {
        "id": "dJXqq1hUDrA5"
      },
      "source": [
        "## 03-3 for 문"
      ]
    },
    {
      "cell_type": "code",
      "metadata": {
        "id": "RE5wA9yPntM9"
      },
      "source": [
        "for i in range (0,10):\n",
        "  print(i)"
      ],
      "execution_count": null,
      "outputs": []
    },
    {
      "cell_type": "code",
      "metadata": {
        "id": "rVhzZQqKo01q"
      },
      "source": [
        "for i in range(10):\n",
        "  print(i)"
      ],
      "execution_count": null,
      "outputs": []
    },
    {
      "cell_type": "code",
      "metadata": {
        "id": "vPad2QM6DrA5"
      },
      "source": [
        "del(a)\n",
        "a = ['a', 'b', 'c', 'd']\n",
        "\n",
        "for i in a:\n",
        "    print(i)"
      ],
      "execution_count": null,
      "outputs": []
    },
    {
      "cell_type": "code",
      "metadata": {
        "id": "MURh6mBNDrA6"
      },
      "source": [
        "for i in range(len(a)):\n",
        "    print(a[i])"
      ],
      "execution_count": null,
      "outputs": []
    },
    {
      "cell_type": "code",
      "metadata": {
        "id": "DmJJLl6tDrA6"
      },
      "source": [
        "for i in range(0,4):\n",
        "    print(a[i])\n"
      ],
      "execution_count": null,
      "outputs": []
    },
    {
      "cell_type": "code",
      "metadata": {
        "id": "fZ5eIXo_DrA6"
      },
      "source": [
        "del(b)\n",
        "b = [1, 2, 3, 4, 5]\n",
        "result = [i * 3 for i in b if i%2 == 0]\n",
        "print(result)"
      ],
      "execution_count": null,
      "outputs": []
    },
    {
      "cell_type": "markdown",
      "metadata": {
        "id": "RVQGA9Q5DrA6"
      },
      "source": [
        "## 04-1 함수"
      ]
    },
    {
      "cell_type": "code",
      "metadata": {
        "id": "jSl4eqHkqRcJ"
      },
      "source": [
        "# lambda를 사용한 간단한 함수\n",
        "\n",
        "add = lambda a, b : a + b\n",
        "add(2,3)"
      ],
      "execution_count": null,
      "outputs": []
    },
    {
      "cell_type": "code",
      "metadata": {
        "id": "qbaRTkp-DrA6"
      },
      "source": [
        "def sum(a,b):\n",
        "    return a+b\n",
        "\n",
        "a = 3\n",
        "b = 4\n",
        "print(sum(a,b))"
      ],
      "execution_count": null,
      "outputs": []
    },
    {
      "cell_type": "code",
      "metadata": {
        "id": "YPolG7gCDrA6"
      },
      "source": [
        "def sum_many(*args):\n",
        "    sum = 0\n",
        "    for i in args:\n",
        "        sum = sum + i\n",
        "    return sum\n",
        "\n",
        "print(sum_many(1,2,3,4,5,6,7))\n"
      ],
      "execution_count": null,
      "outputs": []
    },
    {
      "cell_type": "code",
      "metadata": {
        "id": "AscVPKMqDrA6"
      },
      "source": [
        "def sum_and_mul(a,b):\n",
        "    return a+b, a*b\n",
        "\n",
        "print(sum_and_mul(4,5))"
      ],
      "execution_count": null,
      "outputs": []
    },
    {
      "cell_type": "markdown",
      "metadata": {
        "id": "fqcFOY3EDrA6"
      },
      "source": [
        "## 04-2 사용자 입력과 출력"
      ]
    },
    {
      "cell_type": "code",
      "metadata": {
        "id": "urgb4OJwDrA6"
      },
      "source": [
        "a = input(\"아무 글자나 입력해 보세요: \")\n",
        "\n",
        "a = a + \" \"\n",
        "result = a * 3\n",
        "print(result)"
      ],
      "execution_count": null,
      "outputs": []
    },
    {
      "cell_type": "code",
      "metadata": {
        "id": "v9JSZa-EDrA7"
      },
      "source": [
        "print(\"life\" \"is\" \"too short\")\n",
        "print(\"life\"+\"is\"+\"too short\")\n",
        "print(\"life\", \"is\", \"too short\")\n",
        "\n",
        "for i in range(10):\n",
        "    print(i, end=' ')"
      ],
      "execution_count": null,
      "outputs": []
    },
    {
      "cell_type": "markdown",
      "metadata": {
        "id": "5L_7Hi3KYt6W"
      },
      "source": [
        "## CSV 파일 읽기"
      ]
    },
    {
      "cell_type": "code",
      "metadata": {
        "id": "LpOmXhDJYw5h"
      },
      "source": [
        "import pandas\n",
        "\n",
        "data = pandas.read_csv(\"https://raw.githubusercontent.com/lorien94/Practice2/main/UB_Data.csv\")\n",
        "print(data)"
      ],
      "execution_count": null,
      "outputs": []
    }
  ]
}